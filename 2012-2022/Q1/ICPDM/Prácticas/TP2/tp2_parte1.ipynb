{
 "cells": [
  {
   "cell_type": "markdown",
   "metadata": {},
   "source": [
    "# Irene J. Ventura Farias"
   ]
  },
  {
   "cell_type": "markdown",
   "metadata": {},
   "source": [
    "### Dataset descargado desde\n",
    "## https://ieee-dataport.org/documents/smart-defender-dataset\n",
    "\n",
    "La descripción de los campos que componen los datos del dataset están disponible en esa URL"
   ]
  },
  {
   "cell_type": "markdown",
   "metadata": {},
   "source": [
    "# PARTE 1: Uso de Spark para análisis de datos, Dataframes #"
   ]
  },
  {
   "cell_type": "code",
   "execution_count": 1,
   "metadata": {},
   "outputs": [],
   "source": [
    "#Librerías importadas para el notebook\n",
    "from pyspark.sql import SparkSession\n",
    "spark = SparkSession.builder.appName(\"PySparkShell\").getOrCreate()"
   ]
  },
  {
   "cell_type": "code",
   "execution_count": 2,
   "metadata": {},
   "outputs": [
    {
     "data": {
      "text/html": [
       "\n",
       "            <div>\n",
       "                <p><b>SparkSession - in-memory</b></p>\n",
       "                \n",
       "        <div>\n",
       "            <p><b>SparkContext</b></p>\n",
       "\n",
       "            <p><a href=\"http://CharlieJr-19:4040\">Spark UI</a></p>\n",
       "\n",
       "            <dl>\n",
       "              <dt>Version</dt>\n",
       "                <dd><code>v3.1.2</code></dd>\n",
       "              <dt>Master</dt>\n",
       "                <dd><code>local[*]</code></dd>\n",
       "              <dt>AppName</dt>\n",
       "                <dd><code>PySparkShell</code></dd>\n",
       "            </dl>\n",
       "        </div>\n",
       "        \n",
       "            </div>\n",
       "        "
      ],
      "text/plain": [
       "<pyspark.sql.session.SparkSession at 0x1f06aece9d0>"
      ]
     },
     "execution_count": 2,
     "metadata": {},
     "output_type": "execute_result"
    }
   ],
   "source": [
    "# Mostrar la versión de Spark usada\n",
    "\n",
    "# Datos de la sesión spark\n",
    "spark"
   ]
  },
  {
   "cell_type": "code",
   "execution_count": 3,
   "metadata": {},
   "outputs": [],
   "source": [
    "# Cargar el dataset en un Dataframe\n",
    "data = spark.read.csv('dataset_descriptor.csv',\n",
    "                      mode=\"DROPMALFORMED\",\n",
    "                      inferSchema=True,\n",
    "                      header=True)"
   ]
  },
  {
   "cell_type": "code",
   "execution_count": 4,
   "metadata": {},
   "outputs": [
    {
     "name": "stdout",
     "output_type": "stream",
     "text": [
      "root\n",
      " |-- ip_proto: double (nullable = true)\n",
      " |-- ip_len_mean: double (nullable = true)\n",
      " |-- ip_len_median: double (nullable = true)\n",
      " |-- ip_len_var: double (nullable = true)\n",
      " |-- ip_len_std: double (nullable = true)\n",
      " |-- ip_len_entropy: double (nullable = true)\n",
      " |-- ip_len_cv: double (nullable = true)\n",
      " |-- ip_len_cvq: double (nullable = true)\n",
      " |-- ip_len_rte: double (nullable = true)\n",
      " |-- ip_ttl_mean: double (nullable = true)\n",
      " |-- ip_ttl_median: double (nullable = true)\n",
      " |-- ip_ttl_var: double (nullable = true)\n",
      " |-- ip_ttl_std: double (nullable = true)\n",
      " |-- ip_ttl_entropy: double (nullable = true)\n",
      " |-- ip_ttl_cv: double (nullable = true)\n",
      " |-- ip_ttl_cvq: double (nullable = true)\n",
      " |-- ip_ttl_rte: double (nullable = true)\n",
      " |-- sport_mean: double (nullable = true)\n",
      " |-- sport_median: double (nullable = true)\n",
      " |-- sport_var: double (nullable = true)\n",
      " |-- sport_std: double (nullable = true)\n",
      " |-- sport_entropy: double (nullable = true)\n",
      " |-- sport_cv: double (nullable = true)\n",
      " |-- sport_cvq: double (nullable = true)\n",
      " |-- sport_rte: double (nullable = true)\n",
      " |-- dport_mean: double (nullable = true)\n",
      " |-- dport_median: double (nullable = true)\n",
      " |-- dport_var: double (nullable = true)\n",
      " |-- dport_std: double (nullable = true)\n",
      " |-- dport_entropy: double (nullable = true)\n",
      " |-- dport_cv: double (nullable = true)\n",
      " |-- dport_cvq: double (nullable = true)\n",
      " |-- dport_rte: double (nullable = true)\n",
      " |-- tcp_seq_median: double (nullable = true)\n",
      " |-- tcp_seq_mean: double (nullable = true)\n",
      " |-- tcp_seq_var: double (nullable = true)\n",
      " |-- tcp_seq_std: double (nullable = true)\n",
      " |-- tcp_seq_entropy: double (nullable = true)\n",
      " |-- tcp_seq_cv: double (nullable = true)\n",
      " |-- tcp_seq_cvq: double (nullable = true)\n",
      " |-- tcp_seq_rte: double (nullable = true)\n",
      " |-- tcp_ack_mean: double (nullable = true)\n",
      " |-- tcp_ack_median: double (nullable = true)\n",
      " |-- tcp_ack_var: double (nullable = true)\n",
      " |-- tcp_ack_std: double (nullable = true)\n",
      " |-- tcp_ack_entropy: double (nullable = true)\n",
      " |-- tcp_ack_cv: double (nullable = true)\n",
      " |-- tcp_ack_cvq: double (nullable = true)\n",
      " |-- tcp_ack_rte: double (nullable = true)\n",
      " |-- tcp_dataofs_mean: double (nullable = true)\n",
      " |-- tcp_dataofs_median: double (nullable = true)\n",
      " |-- tcp_dataofs_var: double (nullable = true)\n",
      " |-- tcp_dataofs_std: double (nullable = true)\n",
      " |-- tcp_dataofs_entropy: double (nullable = true)\n",
      " |-- tcp_dataofs_cv: double (nullable = true)\n",
      " |-- tcp_dataofs_cvq: double (nullable = true)\n",
      " |-- tcp_dataofs_rte: double (nullable = true)\n",
      " |-- tcp_flags_mean: double (nullable = true)\n",
      " |-- tcp_flags_median: double (nullable = true)\n",
      " |-- tcp_flags_var: double (nullable = true)\n",
      " |-- tcp_flags_std: double (nullable = true)\n",
      " |-- tcp_flags_entropy: double (nullable = true)\n",
      " |-- tcp_flags_cv: double (nullable = true)\n",
      " |-- tcp_flags_cvq: double (nullable = true)\n",
      " |-- tcp_flags_rte: double (nullable = true)\n",
      " |-- tcp_window_mean: double (nullable = true)\n",
      " |-- tcp_window_median: double (nullable = true)\n",
      " |-- tcp_window_var: double (nullable = true)\n",
      " |-- tcp_window_std: double (nullable = true)\n",
      " |-- tcp_window_entropy: double (nullable = true)\n",
      " |-- tcp_window_cv: double (nullable = true)\n",
      " |-- tcp_window_cvq: double (nullable = true)\n",
      " |-- tcp_window_rte: double (nullable = true)\n",
      " |-- Label1: string (nullable = true)\n",
      " |-- Label2: string (nullable = true)\n",
      " |-- Label3: string (nullable = true)\n",
      "\n"
     ]
    }
   ],
   "source": [
    "# Mostrar el schema heredado\n",
    "data.printSchema()"
   ]
  },
  {
   "cell_type": "code",
   "execution_count": 5,
   "metadata": {},
   "outputs": [
    {
     "data": {
      "text/plain": [
       "45500"
      ]
     },
     "execution_count": 5,
     "metadata": {},
     "output_type": "execute_result"
    }
   ],
   "source": [
    "# Mostrar el número de registros del dataset\n",
    "data.count()"
   ]
  },
  {
   "cell_type": "code",
   "execution_count": 6,
   "metadata": {},
   "outputs": [
    {
     "name": "stdout",
     "output_type": "stream",
     "text": [
      "+-----------------+\n",
      "|           Label1|\n",
      "+-----------------+\n",
      "|       http_flood|\n",
      "|   http_slow_body|\n",
      "|    tcp_fin_flood|\n",
      "|  http_slow_range|\n",
      "|           normal|\n",
      "|        udp_flood|\n",
      "|   http_slow_read|\n",
      "|tcp_syn_ack_flood|\n",
      "|    tcp_syn_flood|\n",
      "|    tcp_ack_flood|\n",
      "|http_slow_headers|\n",
      "+-----------------+\n",
      "\n"
     ]
    }
   ],
   "source": [
    "# Q1. ¿Cuantas clases de tipo de tráfico hay clasificadas en el campo label1?\n",
    "Q1 = data.select(\"Label1\").distinct()\n",
    "Q1.show()"
   ]
  },
  {
   "cell_type": "code",
   "execution_count": 7,
   "metadata": {},
   "outputs": [
    {
     "name": "stdout",
     "output_type": "stream",
     "text": [
      "+----------+\n",
      "|    Label3|\n",
      "+----------+\n",
      "|http_flood|\n",
      "| tcp_flood|\n",
      "|    normal|\n",
      "| udp_flood|\n",
      "| http_slow|\n",
      "+----------+\n",
      "\n"
     ]
    }
   ],
   "source": [
    "# Q2. ¿Cuantas clases de tipo de tráfico hay clasificadas en el campo label3?\n",
    "Q2 = data.select(\"Label3\").distinct()\n",
    "Q2.show()"
   ]
  },
  {
   "cell_type": "code",
   "execution_count": 8,
   "metadata": {},
   "outputs": [
    {
     "name": "stdout",
     "output_type": "stream",
     "text": [
      "49.26%\n"
     ]
    }
   ],
   "source": [
    "#Q3 ¿Que porcentaje de tráfico está catalogado como anormal? Entiendase por anormal aquel que no está etiquetado como normal.\n",
    "\n",
    "# Contabilizamos los casos que no son normal \n",
    "no_normal = data.filter(data['Label3'] != \"normal\").count() \n",
    "# Contabilizamos todos los casos\n",
    "total = data.count()\n",
    "# Calculamos el porcentaje de los anormales sobre el total y redondeamos el total a dos décimales \n",
    "Q3 = round((no_normal/total)*100,2)\n",
    "# Imprimimos el resultado\n",
    "print(str(Q3)+\"%\")"
   ]
  },
  {
   "cell_type": "code",
   "execution_count": 9,
   "metadata": {},
   "outputs": [
    {
     "data": {
      "text/html": [
       "<div>\n",
       "<style scoped>\n",
       "    .dataframe tbody tr th:only-of-type {\n",
       "        vertical-align: middle;\n",
       "    }\n",
       "\n",
       "    .dataframe tbody tr th {\n",
       "        vertical-align: top;\n",
       "    }\n",
       "\n",
       "    .dataframe thead th {\n",
       "        text-align: right;\n",
       "    }\n",
       "</style>\n",
       "<table border=\"1\" class=\"dataframe\">\n",
       "  <thead>\n",
       "    <tr style=\"text-align: right;\">\n",
       "      <th></th>\n",
       "      <th>traffic</th>\n",
       "      <th>percentage</th>\n",
       "    </tr>\n",
       "  </thead>\n",
       "  <tbody>\n",
       "    <tr>\n",
       "      <th>0</th>\n",
       "      <td>http_flood</td>\n",
       "      <td>0.762637</td>\n",
       "    </tr>\n",
       "    <tr>\n",
       "      <th>1</th>\n",
       "      <td>tcp_flood</td>\n",
       "      <td>32.940659</td>\n",
       "    </tr>\n",
       "    <tr>\n",
       "      <th>2</th>\n",
       "      <td>normal</td>\n",
       "      <td>50.742857</td>\n",
       "    </tr>\n",
       "    <tr>\n",
       "      <th>3</th>\n",
       "      <td>udp_flood</td>\n",
       "      <td>15.151648</td>\n",
       "    </tr>\n",
       "    <tr>\n",
       "      <th>4</th>\n",
       "      <td>http_slow</td>\n",
       "      <td>0.402198</td>\n",
       "    </tr>\n",
       "  </tbody>\n",
       "</table>\n",
       "</div>"
      ],
      "text/plain": [
       "      traffic  percentage\n",
       "0  http_flood    0.762637\n",
       "1   tcp_flood   32.940659\n",
       "2      normal   50.742857\n",
       "3   udp_flood   15.151648\n",
       "4   http_slow    0.402198"
      ]
     },
     "execution_count": 9,
     "metadata": {},
     "output_type": "execute_result"
    }
   ],
   "source": [
    "# Q4 Mostrar los porcentajes de trafico sobre el total asociados a cada tipo de etiqueta de tráfico \n",
    "# (usar el campo genérico Label3 y no el detallado Label 1)\n",
    "# Mostrar un diagrama con estos porcent2ajes (bar plot)\n",
    "\n",
    "\n",
    "#Agrupamos por la etiqueta 'Label3' y contabilizamos por tipo cuantos hay \n",
    "Q4 = data.groupBy(\"Label3\").count()\n",
    "\n",
    "# Renombramos la columna Label3 como traffic, y creamos una nueva columna \n",
    "# que calcule el porcentaje de cada tipo de tráfico sobre el total (que calculamos en Q3) \n",
    "Q4 = Q4.select( Q4['Label3'].alias(\"traffic\"),((Q4['count']/total)* 100).alias('percentage')).toPandas()\n",
    "\n",
    "Q4"
   ]
  },
  {
   "cell_type": "code",
   "execution_count": 10,
   "metadata": {},
   "outputs": [
    {
     "data": {
      "image/png": "[encoded data removed]",
      "text/plain": [
       "<Figure size 432x288 with 1 Axes>"
      ]
     },
     "metadata": {
      "needs_background": "light"
     },
     "output_type": "display_data"
    }
   ],
   "source": [
    "#Importamos la librería para obtener el diagrama de barras \n",
    "import matplotlib.pyplot as plt\n",
    "\n",
    "Q4.plot(kind=\"bar\", x=\"traffic\")\n",
    "plt.show()"
   ]
  },
  {
   "cell_type": "code",
   "execution_count": 11,
   "metadata": {},
   "outputs": [
    {
     "name": "stdout",
     "output_type": "stream",
     "text": [
      "+------------+\n",
      "|ip_proto_int|\n",
      "+------------+\n",
      "|        17.0|\n",
      "|         6.0|\n",
      "+------------+\n",
      "\n"
     ]
    }
   ],
   "source": [
    "# Q5 Identificar que tipo de tráfico de red está incluido en el dataset (usar el campo ip_proto y convertir \n",
    "# ese valor al real que debería tener, es decir, un entero en el rango definido por el IANA)\n",
    "# https://www.iana.org/assignments/protocol-numbers/protocol-numbers.xhtml\n",
    "\n",
    "# Obtenemos el tipo de tráfico multiplicando el campo ip_proto x 1000\n",
    "data = data.withColumn(\"ip_proto_int\", data[\"ip_proto\"]*1000)\n",
    "#Nos aseguramos de obtener todos los posibles tipos de protocolo \n",
    "Q5 = data.select(\"ip_proto_int\").distinct()\n",
    "Q5.show()"
   ]
  },
  {
   "cell_type": "code",
   "execution_count": 12,
   "metadata": {},
   "outputs": [
    {
     "name": "stdout",
     "output_type": "stream",
     "text": [
      "+------------+------------------+\n",
      "|ip_proto_int|  sum(ip_len_mean)|\n",
      "+------------+------------------+\n",
      "|        17.0| 7064.346040678179|\n",
      "|         6.0|26867.191474056694|\n",
      "+------------+------------------+\n",
      "\n"
     ]
    }
   ],
   "source": [
    "# Q6 Calcular la cantidad total (suponer que el dato a aculumar para cada paquete es ip_len_mean) \n",
    "# de bytes transmitidos agrupados por protocolo\n",
    "\n",
    "# Del campo que calculamos en Q5 agrupamos y obtenemos la suma total de ip_lean_mean\n",
    "Q6 = data.groupBy('ip_proto_int').sum('ip_len_mean')\n",
    "Q6.show()"
   ]
  },
  {
   "cell_type": "code",
   "execution_count": 13,
   "metadata": {},
   "outputs": [
    {
     "name": "stdout",
     "output_type": "stream",
     "text": [
      "+---------+------------------+\n",
      "|   Label1|  sum(ip_len_mean)|\n",
      "+---------+------------------+\n",
      "|udp_flood|            6894.0|\n",
      "|   normal|170.34604067817844|\n",
      "+---------+------------------+\n",
      "\n"
     ]
    }
   ],
   "source": [
    "# Q7 Indicar cual es tráfico anómalo en UDP que usa más tráfico de red. Presentar los resultados en orden demayor a menor\n",
    "\n",
    "# Filtramos por el tráfico UDP (IANA = 17),\n",
    "# agrupamos por Label 1 y hacemos la suma total del campo ip_lean_mean,\n",
    "# especificando el orden en que queremos la solucion\n",
    "Q7 = data.filter(data['ip_proto_int'] == 17.0).groupBy('Label1')\\\n",
    ".sum('ip_len_mean').orderBy('sum(ip_len_mean)', ascending=False)\n",
    "Q7.show()"
   ]
  },
  {
   "cell_type": "code",
   "execution_count": 14,
   "metadata": {},
   "outputs": [
    {
     "name": "stdout",
     "output_type": "stream",
     "text": [
      "+-----------------+------------------+\n",
      "|           Label1|  sum(ip_len_mean)|\n",
      "+-----------------+------------------+\n",
      "|           normal|11615.053998509022|\n",
      "|    tcp_syn_flood| 5713.195544936026|\n",
      "|tcp_syn_ack_flood| 5273.157952268173|\n",
      "|    tcp_fin_flood|            2000.0|\n",
      "|    tcp_ack_flood|            2000.0|\n",
      "|       http_flood| 90.88054677859463|\n",
      "|  http_slow_range| 44.20993791090954|\n",
      "|http_slow_headers|44.157370741482964|\n",
      "|   http_slow_read|43.283366733466934|\n",
      "|   http_slow_body|43.252756179024715|\n",
      "+-----------------+------------------+\n",
      "\n"
     ]
    }
   ],
   "source": [
    "# Q8 Indicar cual es tráfico anómalo en TCP que usa más tráfico de red. Presentar los resultados en orden demayor a menor\n",
    "\n",
    "#Mantenemos la misma lógica del Q7 pero filtrando para el caso de TCP (6)\n",
    "Q8 = data.filter(data['ip_proto_int'] == 6.0).groupBy('Label1')\\\n",
    ".sum('ip_len_mean').orderBy('sum(ip_len_mean)', ascending=False)\n",
    "Q8.show()"
   ]
  },
  {
   "cell_type": "markdown",
   "metadata": {},
   "source": [
    "# PARTE 2: Uso de Spark para análisis de datos, Spark SQL #\n",
    "\n",
    "Contestar a las cuestiones anteriores empleando Spark SQL"
   ]
  },
  {
   "cell_type": "code",
   "execution_count": 15,
   "metadata": {},
   "outputs": [],
   "source": [
    "# Crear la vista en memoria y añadir una celda por cada cuestión que se debe responder\n",
    "data.createOrReplaceTempView(\"TP2View\")"
   ]
  },
  {
   "cell_type": "code",
   "execution_count": 16,
   "metadata": {},
   "outputs": [
    {
     "name": "stdout",
     "output_type": "stream",
     "text": [
      "+-----------------+\n",
      "|           Label1|\n",
      "+-----------------+\n",
      "|       http_flood|\n",
      "|   http_slow_body|\n",
      "|    tcp_fin_flood|\n",
      "|  http_slow_range|\n",
      "|           normal|\n",
      "|        udp_flood|\n",
      "|   http_slow_read|\n",
      "|tcp_syn_ack_flood|\n",
      "|    tcp_syn_flood|\n",
      "|    tcp_ack_flood|\n",
      "|http_slow_headers|\n",
      "+-----------------+\n",
      "\n"
     ]
    }
   ],
   "source": [
    "# Q1. ¿Cuantas clases de tipo de tráfico hay clasificadas en el campo label1?\n",
    "spark.sql(\"SELECT DISTINCT Label1\\\n",
    "          FROM TP2View \").show()"
   ]
  },
  {
   "cell_type": "code",
   "execution_count": 17,
   "metadata": {},
   "outputs": [
    {
     "name": "stdout",
     "output_type": "stream",
     "text": [
      "+----------+\n",
      "|    Label3|\n",
      "+----------+\n",
      "|http_flood|\n",
      "| tcp_flood|\n",
      "|    normal|\n",
      "| udp_flood|\n",
      "| http_slow|\n",
      "+----------+\n",
      "\n"
     ]
    }
   ],
   "source": [
    "# Q2. ¿Cuantas clases de tipo de tráfico hay clasificadas en el campo label3?\n",
    "spark.sql(\"SELECT DISTINCT Label3\\\n",
    "          FROM TP2View\").show()"
   ]
  },
  {
   "cell_type": "code",
   "execution_count": 18,
   "metadata": {},
   "outputs": [
    {
     "name": "stdout",
     "output_type": "stream",
     "text": [
      "+----------+\n",
      "|percentage|\n",
      "+----------+\n",
      "|   49.26 %|\n",
      "+----------+\n",
      "\n"
     ]
    }
   ],
   "source": [
    "#Q3 ¿Que porcentaje de tráfico está catalogado como anormal? Entiendase por anormal aquel que no está etiquetado como normal.\n",
    "\n",
    "spark.sql(\"SELECT CONCAT(ROUND((COUNT(Label3)/45500)*100, 2), ' %') AS percentage\\\n",
    "           FROM TP2View\\\n",
    "        WHERE Label3 != 'normal'\").show()\n"
   ]
  },
  {
   "cell_type": "code",
   "execution_count": 19,
   "metadata": {},
   "outputs": [
    {
     "data": {
      "text/html": [
       "<div>\n",
       "<style scoped>\n",
       "    .dataframe tbody tr th:only-of-type {\n",
       "        vertical-align: middle;\n",
       "    }\n",
       "\n",
       "    .dataframe tbody tr th {\n",
       "        vertical-align: top;\n",
       "    }\n",
       "\n",
       "    .dataframe thead th {\n",
       "        text-align: right;\n",
       "    }\n",
       "</style>\n",
       "<table border=\"1\" class=\"dataframe\">\n",
       "  <thead>\n",
       "    <tr style=\"text-align: right;\">\n",
       "      <th></th>\n",
       "      <th>traffic</th>\n",
       "      <th>percentage</th>\n",
       "    </tr>\n",
       "  </thead>\n",
       "  <tbody>\n",
       "    <tr>\n",
       "      <th>0</th>\n",
       "      <td>http_flood</td>\n",
       "      <td>0.762637</td>\n",
       "    </tr>\n",
       "    <tr>\n",
       "      <th>1</th>\n",
       "      <td>tcp_flood</td>\n",
       "      <td>32.940659</td>\n",
       "    </tr>\n",
       "    <tr>\n",
       "      <th>2</th>\n",
       "      <td>normal</td>\n",
       "      <td>50.742857</td>\n",
       "    </tr>\n",
       "    <tr>\n",
       "      <th>3</th>\n",
       "      <td>udp_flood</td>\n",
       "      <td>15.151648</td>\n",
       "    </tr>\n",
       "    <tr>\n",
       "      <th>4</th>\n",
       "      <td>http_slow</td>\n",
       "      <td>0.402198</td>\n",
       "    </tr>\n",
       "  </tbody>\n",
       "</table>\n",
       "</div>"
      ],
      "text/plain": [
       "      traffic  percentage\n",
       "0  http_flood    0.762637\n",
       "1   tcp_flood   32.940659\n",
       "2      normal   50.742857\n",
       "3   udp_flood   15.151648\n",
       "4   http_slow    0.402198"
      ]
     },
     "execution_count": 19,
     "metadata": {},
     "output_type": "execute_result"
    }
   ],
   "source": [
    "# Q4 Mostrar los porcentajes de trafico sobre el total asociados a cada tipo de etiqueta de tráfico \n",
    "# (usar el campo genérico Label3 y no el detallado Label 1)\n",
    "# Mostrar un diagrama con estos porcentajes (bar plot)\n",
    "\n",
    "Q4 = spark.sql(\"SELECT Label3 AS traffic, (COUNT(*) / 45500) * 100 AS percentage\\\n",
    "           FROM TP2View\\\n",
    "           GROUP BY Label3\").toPandas()\n",
    "Q4"
   ]
  },
  {
   "cell_type": "code",
   "execution_count": 20,
   "metadata": {},
   "outputs": [
    {
     "data": {
      "image/png": "[encoded data removed]",
      "text/plain": [
       "<Figure size 432x288 with 1 Axes>"
      ]
     },
     "metadata": {
      "needs_background": "light"
     },
     "output_type": "display_data"
    }
   ],
   "source": [
    "#Importamos la librería para obtener el diagrama de barras \n",
    "import matplotlib.pyplot as plt\n",
    "\n",
    "Q4.plot(kind=\"bar\", x=\"traffic\")\n",
    "plt.show()"
   ]
  },
  {
   "cell_type": "code",
   "execution_count": 21,
   "metadata": {},
   "outputs": [
    {
     "name": "stdout",
     "output_type": "stream",
     "text": [
      "+------------+\n",
      "|ip_proto_int|\n",
      "+------------+\n",
      "|        17.0|\n",
      "|         6.0|\n",
      "+------------+\n",
      "\n"
     ]
    }
   ],
   "source": [
    "# Q5 Identificar que tipo de tráfico de red está incluido en el dataset (usar el campo ip_proto y convertir \n",
    "# ese valor al real que debería tener, es decir, un entero en el rango definido por el IANA)\n",
    "# https://www.iana.org/assignments/protocol-numbers/protocol-numbers.xhtml\n",
    "\n",
    "spark.sql(\"SELECT DISTINCT (ip_proto*1000) AS ip_proto_int\\\n",
    "           FROM TP2View\").show()"
   ]
  },
  {
   "cell_type": "code",
   "execution_count": 22,
   "metadata": {},
   "outputs": [
    {
     "name": "stdout",
     "output_type": "stream",
     "text": [
      "+------------+------------------+\n",
      "|ip_proto_int|  sum(ip_len_mean)|\n",
      "+------------+------------------+\n",
      "|        17.0| 7064.346040678179|\n",
      "|         6.0|26867.191474056694|\n",
      "+------------+------------------+\n",
      "\n"
     ]
    }
   ],
   "source": [
    "# Q6 Calcular la cantidad total (suponer que el dato a aculumar para cada paquete es ip_len_mean) \n",
    "# de bytes transmitidos agrupados por protocolo\n",
    "\n",
    "spark.sql(\"SELECT ip_proto_int, SUM(ip_len_mean)\\\n",
    "           FROM TP2View GROUP BY ip_proto_int \").show()"
   ]
  },
  {
   "cell_type": "code",
   "execution_count": 23,
   "metadata": {},
   "outputs": [
    {
     "name": "stdout",
     "output_type": "stream",
     "text": [
      "+---------+------------------+\n",
      "|   Label1|  sum(ip_len_mean)|\n",
      "+---------+------------------+\n",
      "|udp_flood|            6894.0|\n",
      "|   normal|170.34604067817844|\n",
      "+---------+------------------+\n",
      "\n"
     ]
    }
   ],
   "source": [
    "# Q7 Indicar cual es tráfico anómalo en UDP que usa más tráfico de red. Presentar los resultados en orden demayor a menor\n",
    "spark.sql(\"SELECT Label1, SUM(ip_len_mean)\\\n",
    "           FROM TP2View\\\n",
    "           WHERE (ip_proto*1000) == 17\\\n",
    "           GROUP BY Label1 ORDER BY sum(ip_len_mean) DESC \").show()"
   ]
  },
  {
   "cell_type": "code",
   "execution_count": 24,
   "metadata": {},
   "outputs": [
    {
     "name": "stdout",
     "output_type": "stream",
     "text": [
      "+-----------------+------------------+\n",
      "|           Label1|  sum(ip_len_mean)|\n",
      "+-----------------+------------------+\n",
      "|           normal|11615.053998509022|\n",
      "|    tcp_syn_flood| 5713.195544936026|\n",
      "|tcp_syn_ack_flood| 5273.157952268173|\n",
      "|    tcp_fin_flood|            2000.0|\n",
      "|    tcp_ack_flood|            2000.0|\n",
      "|       http_flood| 90.88054677859463|\n",
      "|  http_slow_range| 44.20993791090954|\n",
      "|http_slow_headers|44.157370741482964|\n",
      "|   http_slow_read|43.283366733466934|\n",
      "|   http_slow_body|43.252756179024715|\n",
      "+-----------------+------------------+\n",
      "\n"
     ]
    }
   ],
   "source": [
    "# Q8 Indicar cual es tráfico anómalo en TCP que usa más tráfico de red. Presentar los resultados en orden demayor a menor\n",
    "\n",
    "spark.sql(\"SELECT Label1, SUM(ip_len_mean)\\\n",
    "           FROM TP2View\\\n",
    "           WHERE (ip_proto*1000) == 6\\\n",
    "           GROUP BY Label1 ORDER BY sum(ip_len_mean) DESC \").show()"
   ]
  }
 ],
 "metadata": {
  "kernelspec": {
   "display_name": "Python 3",
   "language": "python",
   "name": "python3"
  },
  "language_info": {
   "codemirror_mode": {
    "name": "ipython",
    "version": 3
   },
   "file_extension": ".py",
   "mimetype": "text/x-python",
   "name": "python",
   "nbconvert_exporter": "python",
   "pygments_lexer": "ipython3",
   "version": "3.8.8"
  }
 },
 "nbformat": 4,
 "nbformat_minor": 2
}
