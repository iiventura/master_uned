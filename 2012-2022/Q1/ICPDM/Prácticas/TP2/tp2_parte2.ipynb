{
 "cells": [
  {
   "cell_type": "markdown",
   "id": "1dfad51f",
   "metadata": {},
   "source": [
    "# Irene J. Ventura Farias\n",
    "- *Dataset*: https://www.kaggle.com/danielgrijalvas/movies\n",
    "- Descripción: Dataset que contiene registros de películas desde 1986-2016. Cada película tiene registrado los siguientes features:\n",
    "    - *budget*: el presupuesto de una película. Algunas películas no lo tienen, por lo que aparece como 0\n",
    "    - *company*: la compañia de producción\n",
    "    - *country*: país de origen\n",
    "    - *director*: director de la película\n",
    "    - *genre*: género de la pelicula\n",
    "    - *gross*: ingrésos de la película\n",
    "    - *name*: nombre\n",
    "    - *rating*: clasificación de la pelicula\n",
    "    - *released*: fecha de estreno\n",
    "    - *runtime*: duración de la película\n",
    "    - *score*: puntuación de los usuarios de IMDb\n",
    "    - *votes*: número de votos de los usuarios\n",
    "    - *star*: actor/ actriz principal\n",
    "    - *writer*: escritor de la película\n",
    "    - *year*: año de estreno \n",
    "    \n",
    "- Objetivo: \n",
    "#Identificar que campos nos pueden ayudar a predecir  el score de películas según los campos que presenta el dataset y que modelo de regresión \n"
   ]
  },
  {
   "cell_type": "code",
   "execution_count": 1,
   "id": "22188369",
   "metadata": {},
   "outputs": [],
   "source": [
    "\n",
    "from pyspark.sql.functions import col, when\n",
    "from pyspark.sql.types import IntegerType\n",
    "\n",
    "import seaborn as sns\n",
    "import numpy as np\n",
    "import matplotlib.pyplot as plt\n",
    "\n"
   ]
  },
  {
   "cell_type": "code",
   "execution_count": 2,
   "id": "a120ec93",
   "metadata": {},
   "outputs": [],
   "source": [
    "from pyspark.sql import SparkSession\n",
    "spark = SparkSession.builder.appName(\"PySparkShell\").getOrCreate()"
   ]
  },
  {
   "cell_type": "code",
   "execution_count": 3,
   "id": "1e1255cc",
   "metadata": {},
   "outputs": [],
   "source": [
    "data = spark.read.csv('movies.csv',\n",
    "                      mode=\"DROPMALFORMED\",\n",
    "                      inferSchema=True,\n",
    "                      header=True)"
   ]
  },
  {
   "cell_type": "code",
   "execution_count": 4,
   "id": "0a32fdd1",
   "metadata": {},
   "outputs": [
    {
     "name": "stdout",
     "output_type": "stream",
     "text": [
      "root\n",
      " |-- name: string (nullable = true)\n",
      " |-- rating: string (nullable = true)\n",
      " |-- genre: string (nullable = true)\n",
      " |-- year: integer (nullable = true)\n",
      " |-- released: string (nullable = true)\n",
      " |-- score: double (nullable = true)\n",
      " |-- votes: double (nullable = true)\n",
      " |-- director: string (nullable = true)\n",
      " |-- writer: string (nullable = true)\n",
      " |-- star: string (nullable = true)\n",
      " |-- country: string (nullable = true)\n",
      " |-- budget: double (nullable = true)\n",
      " |-- gross: double (nullable = true)\n",
      " |-- company: string (nullable = true)\n",
      " |-- runtime: double (nullable = true)\n",
      "\n"
     ]
    }
   ],
   "source": [
    "#Evaluamos el schema del dataframe\n",
    "data.printSchema()"
   ]
  },
  {
   "cell_type": "code",
   "execution_count": 5,
   "id": "6eb095b4",
   "metadata": {},
   "outputs": [
    {
     "data": {
      "text/plain": [
       "7668"
      ]
     },
     "execution_count": 5,
     "metadata": {},
     "output_type": "execute_result"
    }
   ],
   "source": [
    "#contabilizamos el numero de registros en el dataframe\n",
    "total_rows =data.count()\n",
    "total_rows"
   ]
  },
  {
   "cell_type": "code",
   "execution_count": 6,
   "id": "cfef441a",
   "metadata": {},
   "outputs": [
    {
     "data": {
      "text/plain": [
       "False"
      ]
     },
     "execution_count": 6,
     "metadata": {},
     "output_type": "execute_result"
    }
   ],
   "source": [
    "# Comprobamos que no hayan duplicados de la misma peli en el mismo año de estreno\n",
    "total_rows > data.dropDuplicates(['name', \"year\"]).count()"
   ]
  },
  {
   "cell_type": "markdown",
   "id": "db44cef3",
   "metadata": {},
   "source": [
    "# TEMPORAL"
   ]
  },
  {
   "cell_type": "code",
   "execution_count": 13,
   "id": "42b17fa3",
   "metadata": {},
   "outputs": [
    {
     "name": "stdout",
     "output_type": "stream",
     "text": [
      "rating -->  77\n",
      "released -->  2\n",
      "writer -->  3\n",
      "star -->  1\n",
      "country -->  3\n",
      "company -->  17\n"
     ]
    }
   ],
   "source": [
    "# Evaluamos que campos tienen null \n",
    "\n",
    "def count_null_features(df, cols):\n",
    "    #Evaluamos que columnas tienen nulls\n",
    "    null_cols = data.toPandas().isnull().any().to_list()\n",
    "    i = 0\n",
    "    \n",
    "    for c in  cols:\n",
    "        if(null_cols[i] ==  True):\n",
    "            #Para cada columna que tenga nulls   evaluamos cuantos nulls \n",
    "            # presentan sobre el total de registros \n",
    "            num = data.filter(data[c].isNull()).count()\n",
    "            print(c, \"--> \", num)\n",
    "        i = i+1\n",
    "    \n",
    "count_null_features(data, data.columns)\n"
   ]
  },
  {
   "cell_type": "code",
   "execution_count": 8,
   "id": "cb3a8ba5",
   "metadata": {},
   "outputs": [],
   "source": [
    "# Confirmamos que cuando el score es null el votes tambien, por tanto reemplazamos ambos features con 0 \n",
    "data = data.na.fill({'score': 0.0 , 'votes': 0.0,'budget':0.0, 'gross':0.0, 'runtime': 0.0 })"
   ]
  },
  {
   "cell_type": "code",
   "execution_count": 9,
   "id": "93d27120",
   "metadata": {},
   "outputs": [
    {
     "data": {
      "image/png": "[encoded data removed]",
      "text/plain": [
       "<Figure size 720x720 with 2 Axes>"
      ]
     },
     "metadata": {
      "needs_background": "light"
     },
     "output_type": "display_data"
    }
   ],
   "source": [
    "# Calculamos una matriz de correlacion con  los campos numéricos \n",
    "def correlation_matrix(data):\n",
    "    plt.figure(figsize=(10, 10))\n",
    "    sns.heatmap(data=data.corr(), annot=True, cmap=\"YlGnBu\")\n",
    "    plt.show()\n",
    "    \n",
    "correlation_matrix(data.toPandas())"
   ]
  },
  {
   "cell_type": "code",
   "execution_count": null,
   "id": "12fb51c9",
   "metadata": {},
   "outputs": [],
   "source": [
    "# Para el caso nulo por defecto en el campo writer es Unkown, \n",
    "# por lo que vamos a mantener la mismo valor para el unico caso de star\n",
    "data = data.na.fill({'writer': 'Unknown' , 'star': 'Unknown'})\n",
    "\n",
    "#Sin embargo para el caso concreto de writer existe un escritor anónimo que podemos agruparlo a la misma categoria Unkwon \n",
    "data = data.replace(['Anonymous'], ['Unknown'])"
   ]
  },
  {
   "cell_type": "code",
   "execution_count": null,
   "id": "912af7d2",
   "metadata": {},
   "outputs": [],
   "source": [
    "# Basandonos en el Sistema de calificaciones de la Motion Picture Association\n",
    "# (https://es.wikipedia.org/wiki/Sistema_de_calificaciones_de_la_Motion_Picture_Association)\n",
    "# Evaluamos todos los tipos de rating en nuestro dataframe   \n",
    "data.select(\"rating\").distinct().show()\n",
    "\n",
    "#Mostramos un diagrama circular para ver las categorias actuales de rating\n",
    "pd = data.groupBy('rating').count().toPandas()\n",
    "labels = tuple(set(pd['rating'].to_list()))\n",
    "sizes = pd['count'].to_list()\n",
    "explode = (0, 0, 0, 0, 0, 0, 0, 0, 0, 0) # 0, 0, 0) \n",
    "\n",
    "def show_pie(labels, sizes, explode):\n",
    "    fig1, ax1 = plt.subplots()\n",
    "    ax1.pie(sizes, explode=explode, labels=labels, autopct='%1.1f%%', startangle=90)\n",
    "    ax1.axis('equal')  # Equal aspect ratio ensures that pie is drawn as a circle.\n",
    "\n",
    "    plt.show()\n",
    "\n",
    "show_pie(labels, sizes, explode)\n"
   ]
  },
  {
   "cell_type": "code",
   "execution_count": null,
   "id": "841b6ab5",
   "metadata": {},
   "outputs": [],
   "source": [
    "# 1- observamos que Not Rated, Unrated representan a las peliculas que no tienen ningun tipo de calificación.\n",
    "# Por lo que habrá que unifica rambos casos como Unrated y además rellenar los 77 casos null con la misma clásificación\n",
    "data = data.na.fill({'rating': 'Unrated'})\n",
    "\n",
    "# 2 - Ademas existen categórías que pueden unificarse entre ellas por lo que vamos a reemplazar ciertas categórías \n",
    "data = data.replace(['Not Rated', 'Approved', 'TV-MA', 'TV-PG', 'X', 'TV-14'], ['Unrated', 'G', 'NC-17', 'PG', 'NC-17', 'PG-13'])\n",
    "data.select(\"rating\").distinct().show()"
   ]
  },
  {
   "cell_type": "code",
   "execution_count": null,
   "id": "4a7107b3",
   "metadata": {},
   "outputs": [],
   "source": [
    "#Volvemos a evaluar las etiquetar reagrupadas\n",
    "pd = data.groupBy('rating').count().toPandas()\n",
    "labels = tuple(set(pd['rating'].to_list()))\n",
    "sizes = pd['count'].to_list()\n",
    "explode = (0, 0, 0, 0, 0, 0) \n",
    "\n",
    "show_pie(labels, sizes, explode)"
   ]
  },
  {
   "cell_type": "code",
   "execution_count": 10,
   "id": "3ebaac03",
   "metadata": {},
   "outputs": [],
   "source": [
    "# Model evalluation\n",
    "from pyspark.ml.evaluation import RegressionEvaluator\n",
    "from pyspark.ml.regression import LinearRegression, DecisionTreeRegressor, RandomForestRegressor\n",
    "\n",
    "def model_evaluation(label, predictions):\n",
    "    evaluator = RegressionEvaluator(labelCol=\"score\")\n",
    "    rmse = evaluator.evaluate(predictions)\n",
    "    print (\"Root Mean Squared Error = {0:.4f}\".format(rmse))\n",
    "    evaluator.setMetricName(\"mse\")\n",
    "    mse = evaluator.evaluate(predictions)\n",
    "    print (\"Mean Squared Error = {0:.4f}\".format(mse))\n",
    "    accuracy = evaluator.evaluate(predictions)\n",
    "    print(\"Test Error = \" + str(1.0 - accuracy))\n",
    "    print(\"\\n\")\n",
    "    \n",
    "def linear_regression(train, test, label):\n",
    "    lr = LinearRegression(labelCol=label)\n",
    "    model = lr.fit(train)\n",
    "    predictions = model.transform(test)\n",
    "    print(\"**LINEAR REGRESSION MODEL**\")\n",
    "    model_evaluation(label, predictions)\n",
    "   \n",
    "    \n",
    "def decision_tree_model(train, test, label, features):\n",
    "    dt = DecisionTreeRegressor(labelCol=label, featuresCol=features)\n",
    "    model = dt.fit(train)\n",
    "    predictions = model.transform(test)\n",
    "    print(\"** DECISION TREE REGRESSOR MODEL**\")\n",
    "    model_evaluation(label, predictions)\n",
    "    \n",
    "def random_forest_model(train, test, label, features):\n",
    "    rf = RandomForestRegressor(labelCol=label, featuresCol=features)\n",
    "    model = rf.fit(train)\n",
    "    predictions = model.transform(test)\n",
    "    print(\"**RANDOM FOREST MODEL**\")\n",
    "    model_evaluation(label, predictions)\n",
    "    \n",
    "def test_models (data, x, y):\n",
    "    train, test = data.select(x, y).randomSplit([0.8, 0.2], seed=42)\n",
    "    \n",
    "    linear_regression(train, test, y)\n",
    "    decision_tree_model(train, test, y, x)\n",
    "    random_forest_model(train, test, y, x)\n",
    "    "
   ]
  },
  {
   "cell_type": "code",
   "execution_count": 11,
   "id": "f6e34fab",
   "metadata": {},
   "outputs": [
    {
     "data": {
      "text/plain": [
       "'from pyspark.ml.feature import VectorAssembler\\n\\nnumerics = [d[0] for d in data.dtypes if not d[1] == \"string\"]\\nnumerics.remove(\\'score\\')\\nnumerics.remove(\\'runtime\\')\\n\\nassembler = VectorAssembler(inputCols=numerics, outputCol=\"features\")\\n\\ndata= assembler.transform(data)\\ndata.show()'"
      ]
     },
     "execution_count": 11,
     "metadata": {},
     "output_type": "execute_result"
    }
   ],
   "source": [
    "# Features (Modelamos mpg a partir del resto de datos)\n",
    "from pyspark.ml.feature import VectorAssembler\n",
    "\n",
    "numerics = [d[0] for d in data.dtypes if not d[1] == \"string\"]\n",
    "numerics.remove('score')\n",
    "numerics.remove('runtime')\n",
    "\n",
    "assembler = VectorAssembler(inputCols=numerics, outputCol=\"features\")\n",
    "\n",
    "data= assembler.transform(data)\n",
    "data.show()"
   ]
  },
  {
   "cell_type": "code",
   "execution_count": null,
   "id": "1cb5f343",
   "metadata": {},
   "outputs": [],
   "source": [
    "x = \"features\"\n",
    "y = \"score\"\n",
    "\n",
    "test_models(df,x,y)"
   ]
  },
  {
   "cell_type": "code",
   "execution_count": null,
   "id": "6b92d495",
   "metadata": {},
   "outputs": [],
   "source": []
  },
  {
   "cell_type": "code",
   "execution_count": null,
   "id": "368487f7",
   "metadata": {},
   "outputs": [],
   "source": [
    "data.dtypes"
   ]
  },
  {
   "cell_type": "markdown",
   "id": "b08f9d35",
   "metadata": {},
   "source": [
    "# Categórico"
   ]
  },
  {
   "cell_type": "code",
   "execution_count": null,
   "id": "2891b24a",
   "metadata": {},
   "outputs": [],
   "source": []
  },
  {
   "cell_type": "code",
   "execution_count": null,
   "id": "68ce4fe2",
   "metadata": {},
   "outputs": [],
   "source": [
    "# Rellenamos los campos nulos para el resto de columnas , manteniendo el mismo criterio que en las que modificamos previamente \n",
    "data = data.na.fill({'country': 'Unknown', 'company': 'Unknown'})"
   ]
  },
  {
   "cell_type": "code",
   "execution_count": null,
   "id": "e321eead",
   "metadata": {},
   "outputs": [],
   "source": [
    "# La columna released nos la quitamos ya que tenemos el campo year, name es equivalente al id\n",
    "data = data.drop(\"released\", 'name')\n",
    "#Comprobamos que ya no tenemos campos nulos\n",
    "count_null_features(data, data.columns)"
   ]
  },
  {
   "cell_type": "code",
   "execution_count": null,
   "id": "632cdf55",
   "metadata": {},
   "outputs": [],
   "source": [
    "from pyspark.ml import Pipeline\n",
    "from pyspark.ml.feature import StringIndexer,  VectorAssembler, OneHotEncoder\n",
    "\n",
    "# Separamos en dos variables una lista con las columnas numericas y otra con las categoricas \n",
    "\n",
    "categories = [d[0] for d in data.dtypes if d[1] == \"string\"]\n",
    "\n",
    "cindex_name = [col + \"_index\" for col in categories]\n",
    "cencoded_name = [col + \"_encoded\" for col in categories]\n",
    "\n",
    "\n",
    "\n",
    "indexer = StringIndexer(inputCols=categories, outputCols=cindex_name)\n",
    "\n",
    "encoder = OneHotEncoder(inputCols=cindex_name, outputCols=cencoded_name)\n",
    "\n",
    "assembler = VectorAssembler(\n",
    "   \n",
    "    inputCols=[col for col in cencoded_name if col != \"score_encoded\"] ,\n",
    "    outputCol=\"features\",\n",
    ")\n",
    "\n",
    "pipeline = Pipeline(stages=[indexer, encoder, assembler])\n",
    "data = pipeline.fit(data).transform(data)"
   ]
  },
  {
   "cell_type": "code",
   "execution_count": null,
   "id": "879f0c31",
   "metadata": {},
   "outputs": [],
   "source": [
    "# Generamos de nuevo una matriz de correlación \n",
    "correlation_matrix(data.toPandas())"
   ]
  },
  {
   "cell_type": "code",
   "execution_count": null,
   "id": "09e25274",
   "metadata": {},
   "outputs": [],
   "source": [
    "from pyspark.ml.regression import DecisionTreeRegressor"
   ]
  },
  {
   "cell_type": "code",
   "execution_count": null,
   "id": "394877b9",
   "metadata": {},
   "outputs": [],
   "source": [
    "from pyspark.ml.classification import RandomForestClassifier"
   ]
  }
 ],
 "metadata": {
  "kernelspec": {
   "display_name": "Python 3",
   "language": "python",
   "name": "python3"
  },
  "language_info": {
   "codemirror_mode": {
    "name": "ipython",
    "version": 3
   },
   "file_extension": ".py",
   "mimetype": "text/x-python",
   "name": "python",
   "nbconvert_exporter": "python",
   "pygments_lexer": "ipython3",
   "version": "3.8.8"
  }
 },
 "nbformat": 4,
 "nbformat_minor": 5
}
